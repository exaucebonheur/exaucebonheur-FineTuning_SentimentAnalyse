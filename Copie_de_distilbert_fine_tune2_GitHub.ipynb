{
 "cells": [
  {
   "cell_type": "code",
   "execution_count": 1,
   "metadata": {
    "colab": {
     "base_uri": "https://localhost:8080/"
    },
    "id": "lXpVyzqzGEWo",
    "outputId": "56c06882-6fa1-4e6c-ef69-01d562eff92b"
   },
   "outputs": [
    {
     "name": "stdout",
     "output_type": "stream",
     "text": [
      "Requirement already satisfied: transformers in /usr/local/lib/python3.12/dist-packages (4.56.1)\n",
      "Requirement already satisfied: datasets in /usr/local/lib/python3.12/dist-packages (4.0.0)\n",
      "Requirement already satisfied: filelock in /usr/local/lib/python3.12/dist-packages (from transformers) (3.19.1)\n",
      "Requirement already satisfied: huggingface-hub<1.0,>=0.34.0 in /usr/local/lib/python3.12/dist-packages (from transformers) (0.34.4)\n",
      "Requirement already satisfied: numpy>=1.17 in /usr/local/lib/python3.12/dist-packages (from transformers) (2.0.2)\n",
      "Requirement already satisfied: packaging>=20.0 in /usr/local/lib/python3.12/dist-packages (from transformers) (25.0)\n",
      "Requirement already satisfied: pyyaml>=5.1 in /usr/local/lib/python3.12/dist-packages (from transformers) (6.0.2)\n",
      "Requirement already satisfied: regex!=2019.12.17 in /usr/local/lib/python3.12/dist-packages (from transformers) (2024.11.6)\n",
      "Requirement already satisfied: requests in /usr/local/lib/python3.12/dist-packages (from transformers) (2.32.4)\n",
      "Requirement already satisfied: tokenizers<=0.23.0,>=0.22.0 in /usr/local/lib/python3.12/dist-packages (from transformers) (0.22.0)\n",
      "Requirement already satisfied: safetensors>=0.4.3 in /usr/local/lib/python3.12/dist-packages (from transformers) (0.6.2)\n",
      "Requirement already satisfied: tqdm>=4.27 in /usr/local/lib/python3.12/dist-packages (from transformers) (4.67.1)\n",
      "Requirement already satisfied: pyarrow>=15.0.0 in /usr/local/lib/python3.12/dist-packages (from datasets) (18.1.0)\n",
      "Requirement already satisfied: dill<0.3.9,>=0.3.0 in /usr/local/lib/python3.12/dist-packages (from datasets) (0.3.8)\n",
      "Requirement already satisfied: pandas in /usr/local/lib/python3.12/dist-packages (from datasets) (2.2.2)\n",
      "Requirement already satisfied: xxhash in /usr/local/lib/python3.12/dist-packages (from datasets) (3.5.0)\n",
      "Requirement already satisfied: multiprocess<0.70.17 in /usr/local/lib/python3.12/dist-packages (from datasets) (0.70.16)\n",
      "Requirement already satisfied: fsspec<=2025.3.0,>=2023.1.0 in /usr/local/lib/python3.12/dist-packages (from fsspec[http]<=2025.3.0,>=2023.1.0->datasets) (2025.3.0)\n",
      "Requirement already satisfied: aiohttp!=4.0.0a0,!=4.0.0a1 in /usr/local/lib/python3.12/dist-packages (from fsspec[http]<=2025.3.0,>=2023.1.0->datasets) (3.12.15)\n",
      "Requirement already satisfied: typing-extensions>=3.7.4.3 in /usr/local/lib/python3.12/dist-packages (from huggingface-hub<1.0,>=0.34.0->transformers) (4.15.0)\n",
      "Requirement already satisfied: hf-xet<2.0.0,>=1.1.3 in /usr/local/lib/python3.12/dist-packages (from huggingface-hub<1.0,>=0.34.0->transformers) (1.1.9)\n",
      "Requirement already satisfied: charset_normalizer<4,>=2 in /usr/local/lib/python3.12/dist-packages (from requests->transformers) (3.4.3)\n",
      "Requirement already satisfied: idna<4,>=2.5 in /usr/local/lib/python3.12/dist-packages (from requests->transformers) (3.10)\n",
      "Requirement already satisfied: urllib3<3,>=1.21.1 in /usr/local/lib/python3.12/dist-packages (from requests->transformers) (2.5.0)\n",
      "Requirement already satisfied: certifi>=2017.4.17 in /usr/local/lib/python3.12/dist-packages (from requests->transformers) (2025.8.3)\n",
      "Requirement already satisfied: python-dateutil>=2.8.2 in /usr/local/lib/python3.12/dist-packages (from pandas->datasets) (2.9.0.post0)\n",
      "Requirement already satisfied: pytz>=2020.1 in /usr/local/lib/python3.12/dist-packages (from pandas->datasets) (2025.2)\n",
      "Requirement already satisfied: tzdata>=2022.7 in /usr/local/lib/python3.12/dist-packages (from pandas->datasets) (2025.2)\n",
      "Requirement already satisfied: aiohappyeyeballs>=2.5.0 in /usr/local/lib/python3.12/dist-packages (from aiohttp!=4.0.0a0,!=4.0.0a1->fsspec[http]<=2025.3.0,>=2023.1.0->datasets) (2.6.1)\n",
      "Requirement already satisfied: aiosignal>=1.4.0 in /usr/local/lib/python3.12/dist-packages (from aiohttp!=4.0.0a0,!=4.0.0a1->fsspec[http]<=2025.3.0,>=2023.1.0->datasets) (1.4.0)\n",
      "Requirement already satisfied: attrs>=17.3.0 in /usr/local/lib/python3.12/dist-packages (from aiohttp!=4.0.0a0,!=4.0.0a1->fsspec[http]<=2025.3.0,>=2023.1.0->datasets) (25.3.0)\n",
      "Requirement already satisfied: frozenlist>=1.1.1 in /usr/local/lib/python3.12/dist-packages (from aiohttp!=4.0.0a0,!=4.0.0a1->fsspec[http]<=2025.3.0,>=2023.1.0->datasets) (1.7.0)\n",
      "Requirement already satisfied: multidict<7.0,>=4.5 in /usr/local/lib/python3.12/dist-packages (from aiohttp!=4.0.0a0,!=4.0.0a1->fsspec[http]<=2025.3.0,>=2023.1.0->datasets) (6.6.4)\n",
      "Requirement already satisfied: propcache>=0.2.0 in /usr/local/lib/python3.12/dist-packages (from aiohttp!=4.0.0a0,!=4.0.0a1->fsspec[http]<=2025.3.0,>=2023.1.0->datasets) (0.3.2)\n",
      "Requirement already satisfied: yarl<2.0,>=1.17.0 in /usr/local/lib/python3.12/dist-packages (from aiohttp!=4.0.0a0,!=4.0.0a1->fsspec[http]<=2025.3.0,>=2023.1.0->datasets) (1.20.1)\n",
      "Requirement already satisfied: six>=1.5 in /usr/local/lib/python3.12/dist-packages (from python-dateutil>=2.8.2->pandas->datasets) (1.17.0)\n",
      "Requirement already satisfied: torch in /usr/local/lib/python3.12/dist-packages (2.8.0+cu126)\n",
      "Requirement already satisfied: filelock in /usr/local/lib/python3.12/dist-packages (from torch) (3.19.1)\n",
      "Requirement already satisfied: typing-extensions>=4.10.0 in /usr/local/lib/python3.12/dist-packages (from torch) (4.15.0)\n",
      "Requirement already satisfied: setuptools in /usr/local/lib/python3.12/dist-packages (from torch) (75.2.0)\n",
      "Requirement already satisfied: sympy>=1.13.3 in /usr/local/lib/python3.12/dist-packages (from torch) (1.13.3)\n",
      "Requirement already satisfied: networkx in /usr/local/lib/python3.12/dist-packages (from torch) (3.5)\n",
      "Requirement already satisfied: jinja2 in /usr/local/lib/python3.12/dist-packages (from torch) (3.1.6)\n",
      "Requirement already satisfied: fsspec in /usr/local/lib/python3.12/dist-packages (from torch) (2025.3.0)\n",
      "Requirement already satisfied: nvidia-cuda-nvrtc-cu12==12.6.77 in /usr/local/lib/python3.12/dist-packages (from torch) (12.6.77)\n",
      "Requirement already satisfied: nvidia-cuda-runtime-cu12==12.6.77 in /usr/local/lib/python3.12/dist-packages (from torch) (12.6.77)\n",
      "Requirement already satisfied: nvidia-cuda-cupti-cu12==12.6.80 in /usr/local/lib/python3.12/dist-packages (from torch) (12.6.80)\n",
      "Requirement already satisfied: nvidia-cudnn-cu12==9.10.2.21 in /usr/local/lib/python3.12/dist-packages (from torch) (9.10.2.21)\n",
      "Requirement already satisfied: nvidia-cublas-cu12==12.6.4.1 in /usr/local/lib/python3.12/dist-packages (from torch) (12.6.4.1)\n",
      "Requirement already satisfied: nvidia-cufft-cu12==11.3.0.4 in /usr/local/lib/python3.12/dist-packages (from torch) (11.3.0.4)\n",
      "Requirement already satisfied: nvidia-curand-cu12==10.3.7.77 in /usr/local/lib/python3.12/dist-packages (from torch) (10.3.7.77)\n",
      "Requirement already satisfied: nvidia-cusolver-cu12==11.7.1.2 in /usr/local/lib/python3.12/dist-packages (from torch) (11.7.1.2)\n",
      "Requirement already satisfied: nvidia-cusparse-cu12==12.5.4.2 in /usr/local/lib/python3.12/dist-packages (from torch) (12.5.4.2)\n",
      "Requirement already satisfied: nvidia-cusparselt-cu12==0.7.1 in /usr/local/lib/python3.12/dist-packages (from torch) (0.7.1)\n",
      "Requirement already satisfied: nvidia-nccl-cu12==2.27.3 in /usr/local/lib/python3.12/dist-packages (from torch) (2.27.3)\n",
      "Requirement already satisfied: nvidia-nvtx-cu12==12.6.77 in /usr/local/lib/python3.12/dist-packages (from torch) (12.6.77)\n",
      "Requirement already satisfied: nvidia-nvjitlink-cu12==12.6.85 in /usr/local/lib/python3.12/dist-packages (from torch) (12.6.85)\n",
      "Requirement already satisfied: nvidia-cufile-cu12==1.11.1.6 in /usr/local/lib/python3.12/dist-packages (from torch) (1.11.1.6)\n",
      "Requirement already satisfied: triton==3.4.0 in /usr/local/lib/python3.12/dist-packages (from torch) (3.4.0)\n",
      "Requirement already satisfied: mpmath<1.4,>=1.1.0 in /usr/local/lib/python3.12/dist-packages (from sympy>=1.13.3->torch) (1.3.0)\n",
      "Requirement already satisfied: MarkupSafe>=2.0 in /usr/local/lib/python3.12/dist-packages (from jinja2->torch) (3.0.2)\n"
     ]
    }
   ],
   "source": [
    "!pip install transformers datasets\n",
    "!pip install torch\n"
   ]
  },
  {
   "cell_type": "code",
   "execution_count": 2,
   "metadata": {
    "colab": {
     "base_uri": "https://localhost:8080/",
     "height": 365,
     "referenced_widgets": [
      "b97c0390e10a42ed84d6f233445a1e66",
      "ee50f2afae354d729b49204b5bac1f77",
      "c4a93ec23dd64048a6084b9a41cd77f3",
      "f06e6b45066e47ff8c4a7103d6d51c8e",
      "ec85d247c705439b9ba6a19ccce201c4",
      "0e16474cc30f42d98c8acba3ec5d0e54",
      "f723dbf636c5468fa0fd615d686ad32e",
      "262e3a1e0c9c4e998c2b39d45b20beba",
      "cbfd0f53c4d94b7da0cfdd5719590587",
      "8992e991acae4b0b8c63ee5136cdfc7c",
      "6aced7bc53b74163bc67f13b4e911b68",
      "1f9990b732c04b7ca6d7076712fcb2c9",
      "885dca7cfc0d4ac2b3a5ac7921b67ccd",
      "900285dc976348f99f3807e2710a6dd5",
      "60b738c5fcff4e2caa332ddd90e890ac",
      "a65325d20b2642f086688bf9c2598f20",
      "be57762cfd2c42d99c945b6270d05235",
      "cc0f750963734da3bc8bb02a9addd406",
      "71aff4c2432c40928cd2cf7b15aef4c1",
      "f0cf4f532cf64cff899ca48329678f92",
      "73673f602f734a8f9a09b23925ecb01f",
      "840dd6e0eac0426c8dc68cbe06665cc3",
      "3893077a7a134dad99603d290a1b6fdc",
      "c7926d64764447da9f0b24e22dbb727f",
      "2ff80fd40b5e43cfa1d8300972ad5018",
      "8a006c5874bb46d5bc53a7b07a15518f",
      "fa77b569dc804d93a42f75125124b552",
      "e66996546ee54c89a618f3e6398bbb91",
      "f7d48aabf3ba49e2b188d6283e33db04",
      "3c5379e1f79340989e796d5d5b113ada",
      "d63e8e2e215147029f1964a160e5c0b1",
      "9489d606f9a54e8ca75b316e098edf65",
      "2c43b8c7a22d498d915554c373690845",
      "22a404d705c2470499549b59a99a8867",
      "5a92d15bb31d4ab3b6f665d80ff7ee19",
      "892aa5173a554c8283c206536500d9d2",
      "afde32ab485740bb9a126801ca922825",
      "52c48dd259de49498f466f92514eb492",
      "9fafcf07112b427b8f7717122f39613c",
      "f54ed92db1274b489c3a8a38f80edc8c",
      "c3832256a3184e4f9e5d78b0a4bd8f4e",
      "90a768168d8740f6b1fee48410739681",
      "263541af43684dea9e8477e237a024a5",
      "61ab3fd72d614ba29ddb1f40f44e3f71",
      "970d71b4c1e0408b834b3468d9102c45",
      "843a585847a248a58367da452fc77100",
      "7b18e5a71ec54b2cb1a97dcb3deeba1f",
      "2e47b8e8d2504f92a0af8ee783d1c78a",
      "ca1fb12e441b4fa4bb874ba058356373",
      "f4be1680cd6d46a799e508ed59485964",
      "3b8ccbb2cb914b35a8187ff48b55b9ce",
      "21980d2ad2b34bc18c05d5a4513eb4f6",
      "b6852f1f218f41219d6bc9b691d4782a",
      "e84840f36ae445c29471e9966a9a84a5",
      "0fde5d9baa424aef96961196981e3e3f",
      "3979d27865004c30a1388bd63ae8f570",
      "f4d32907f272485890e502666108bfbf",
      "db77ee2ad7e647628cd9eeea5379fb8c",
      "85ec8cb29efa46e6aa7aa042278a7403",
      "736e6751b73b4c909dc48fcfe961c209",
      "14041eceef244bfab559e58262c1e868",
      "f2ff8776f2a54b66b349742a89536b75",
      "87dc4db0b7d0474bb05c59af0fee0ae3",
      "fc91cb3dc2084fc38362ac66f6b4cfd5",
      "fa373becc1044125b0436a2340332bee",
      "6e379c14fcee447783b7b5d6ef0c87cb",
      "7582127c7951456ea4ac3ac6c24e5940",
      "1bc0310c623047848447cacf70fe5aec",
      "d245fdf3a9e34edc89f222320e820283",
      "22fc12842f244642a0a9cd3790f233ec",
      "cbc22b540e4647f09c131cc2ab9fa9d9",
      "03a9ef521fac4e9597f0dce150ca0930",
      "c5d98cc05aba49f29e44bc628b5c1a47",
      "54ffbd2c857240d09cdd4f2eda6b5488",
      "c3921df6cf794e03a9c97894d1127f15",
      "de8d6614d6394b85b761efac5d1b7b5b",
      "6326e6875d724630be09dc73366de27b"
     ]
    },
    "id": "B0j9CwRKGw3C",
    "outputId": "967835cf-9524-44fa-ff0f-b3404fff79ed"
   },
   "outputs": [
    {
     "name": "stderr",
     "output_type": "stream",
     "text": [
      "/usr/local/lib/python3.12/dist-packages/huggingface_hub/utils/_auth.py:94: UserWarning: \n",
      "The secret `HF_TOKEN` does not exist in your Colab secrets.\n",
      "To authenticate with the Hugging Face Hub, create a token in your settings tab (https://huggingface.co/settings/tokens), set it as secret in your Google Colab and restart your session.\n",
      "You will be able to reuse this secret in all of your notebooks.\n",
      "Please note that authentication is recommended but still optional to access public models or datasets.\n",
      "  warnings.warn(\n"
     ]
    },
    {
     "data": {
      "application/vnd.jupyter.widget-view+json": {
       "model_id": "b97c0390e10a42ed84d6f233445a1e66",
       "version_major": 2,
       "version_minor": 0
      },
      "text/plain": [
       "README.md: 0.00B [00:00, ?B/s]"
      ]
     },
     "metadata": {},
     "output_type": "display_data"
    },
    {
     "data": {
      "application/vnd.jupyter.widget-view+json": {
       "model_id": "1f9990b732c04b7ca6d7076712fcb2c9",
       "version_major": 2,
       "version_minor": 0
      },
      "text/plain": [
       "plain_text/train-00000-of-00001.parquet:   0%|          | 0.00/21.0M [00:00<?, ?B/s]"
      ]
     },
     "metadata": {},
     "output_type": "display_data"
    },
    {
     "data": {
      "application/vnd.jupyter.widget-view+json": {
       "model_id": "3893077a7a134dad99603d290a1b6fdc",
       "version_major": 2,
       "version_minor": 0
      },
      "text/plain": [
       "plain_text/test-00000-of-00001.parquet:   0%|          | 0.00/20.5M [00:00<?, ?B/s]"
      ]
     },
     "metadata": {},
     "output_type": "display_data"
    },
    {
     "data": {
      "application/vnd.jupyter.widget-view+json": {
       "model_id": "22a404d705c2470499549b59a99a8867",
       "version_major": 2,
       "version_minor": 0
      },
      "text/plain": [
       "plain_text/unsupervised-00000-of-00001.p(…):   0%|          | 0.00/42.0M [00:00<?, ?B/s]"
      ]
     },
     "metadata": {},
     "output_type": "display_data"
    },
    {
     "data": {
      "application/vnd.jupyter.widget-view+json": {
       "model_id": "970d71b4c1e0408b834b3468d9102c45",
       "version_major": 2,
       "version_minor": 0
      },
      "text/plain": [
       "Generating train split:   0%|          | 0/25000 [00:00<?, ? examples/s]"
      ]
     },
     "metadata": {},
     "output_type": "display_data"
    },
    {
     "data": {
      "application/vnd.jupyter.widget-view+json": {
       "model_id": "3979d27865004c30a1388bd63ae8f570",
       "version_major": 2,
       "version_minor": 0
      },
      "text/plain": [
       "Generating test split:   0%|          | 0/25000 [00:00<?, ? examples/s]"
      ]
     },
     "metadata": {},
     "output_type": "display_data"
    },
    {
     "data": {
      "application/vnd.jupyter.widget-view+json": {
       "model_id": "7582127c7951456ea4ac3ac6c24e5940",
       "version_major": 2,
       "version_minor": 0
      },
      "text/plain": [
       "Generating unsupervised split:   0%|          | 0/50000 [00:00<?, ? examples/s]"
      ]
     },
     "metadata": {},
     "output_type": "display_data"
    }
   ],
   "source": [
    "from datasets import load_dataset\n",
    "\n",
    "# Charger le jeu de données IMDb\n",
    "dataset = load_dataset('imdb')\n"
   ]
  },
  {
   "cell_type": "code",
   "execution_count": 3,
   "metadata": {
    "colab": {
     "base_uri": "https://localhost:8080/",
     "height": 241,
     "referenced_widgets": [
      "5ed835d3a04d419691698f9f07c9a919",
      "94f1be34c6f646caa477c19f8945a910",
      "d6fb7922cbfe453d9c02882b4725bdcf",
      "de4ef16cef8d4eafb1aaddb054de5876",
      "c1237e028b0a4e1ba216dc964ebbe374",
      "35ad75a47906456198cd4bd6b623cc0e",
      "a4a5265d6e1648d4bf1e87215b7f3ef7",
      "145a01c5858c4fa7a41c70c8baa00dc2",
      "414aca06cbc746659685df6224ecb9d6",
      "1357b52846a84ecf80d336cd54271e95",
      "357139450ee042daafc02335e3f23f5d",
      "f54fe48d36bb4539bf8e1d4a9596f44c",
      "eedaffe1ab67410cb31ebc038837ad26",
      "0f3f10bec48540b5af71819cc8c9aeae",
      "3d301dd7a61f496fbe018ee7fe5c73ef",
      "2df8b4aea39c4616984d909903076067",
      "fad81c73660148e897f01436333a0cde",
      "abd3acc6ca734805b09bf8a204c5680b",
      "8fc3bada5fd041ddb8c1fbbbbd3513d0",
      "a3bfe0f8d0af4edab1b3d6249b38d01f",
      "e376a90048204980a889659218a4192d",
      "93823d6fdf7443f18e7d0e40f98e3d9a",
      "e4dae816459b4e2f829689c48bb250a5",
      "34d5bbd400db461abe4c88fa51b14252",
      "258052ba1339475e82edd7f9a1aa4da1",
      "88d22a71d93946d4ab1a3f42ddd1c72a",
      "bc72b1d8b9a7415b9d2e9afaa4e689c6",
      "1a63af65236446d5b804200771860097",
      "a43a680c1b614763a076325e346fb639",
      "e0af17205cef438589b3929064bfceb8",
      "3255f48b8a724961a2e2c026458d8730",
      "03add8152e8149ccaed2794213fa409e",
      "6ff173147b724b438ed3d83490445125",
      "6c4dfae65bb44481a1ad2885acb60647",
      "17759bb5a2204a92b4ba3b40dea28798",
      "dcfa85565dc240d68b97c53473afd9de",
      "4ac2a68b4df5461fbdb6811840ec3f31",
      "1419767c33d74096a4e2b2f100c0bd1f",
      "398e0af3498c4b13be109cb5143bb3f4",
      "a78c87c0c6a346c99c2c3ea3986fc231",
      "a5bba6cd1766462f90d40db216e314da",
      "b2fb5f1deaef40ffb6b79e453454728c",
      "eae19e02f2e946308ab00d50725182ee",
      "9d0d9adad75c49c883eac6d1b95ae5ce",
      "054c3e9ca738404c8d10084c85183ed8",
      "0ef1d60040f245e1bbb966de453edbcd",
      "e9978927a45d444fb342fff7d8e0b10a",
      "fcee89bf6da94a3f89f55f8ad6812ff6",
      "4c8f8c42e5b24c20896e62beb888e76f",
      "b172e1f21c05460ca481d4d901615c93",
      "b45f232e053941ac9288771b66cbaee4",
      "01e007adda4b4d98a4df859b3fd9f49f",
      "82f575621a4f4593a37f7895bd6255a7",
      "a709745772334836912dbe72d0840f36",
      "581cfbf74c8440deb1482ea1eea7ffde",
      "fd94b5e943b64befaeb07adf57817b79",
      "049e499b469348bd80bf201b6a078f6a",
      "a4a4f35a9bfe4f79a99fbd71ceab6cc9",
      "67c9fcc81f9144a49bbd75f2da5105c2",
      "42823c0368bc4a79ba2bf11ed5b54dee",
      "1068faad623c4d608563eb22a1bd6a50",
      "87990560270a41b196675c6dd80732f5",
      "ad54e385903049998af776e6d1130004",
      "182f36d820fb4fe1862f57b5018dd015",
      "ba8c70ac7c284af8bc7ad1a2973232e8",
      "6495ba24f728411da9bc572c3e65115b",
      "3af11f6f10b246c2bed17eaa62b5c532",
      "64f24a70792945f384ced5a4dd28a000",
      "1999c4ae20cf40e583921bbcb6de2776",
      "f9f10e1045654d98a34d8a63be6be198",
      "3be0828bc5fb4b5fbf95ea732d13fadf",
      "5ad3b030999e4795a8ff2778af578ccd",
      "0e63bfaba7fe44fe94cb23be2207d11a",
      "f1f3039e2be143b090795b13c2dd7513",
      "8ffc9538c1e34668b2d8c3143fdef339",
      "6a57dd300ba745c88d907b4be7cbe0af",
      "d027ea773f574b9cbe54707fea489fda"
     ]
    },
    "id": "a36cZIVWG2Nq",
    "outputId": "c7ca85ec-35a5-441e-93a6-fa2d75db1fbd"
   },
   "outputs": [
    {
     "data": {
      "application/vnd.jupyter.widget-view+json": {
       "model_id": "5ed835d3a04d419691698f9f07c9a919",
       "version_major": 2,
       "version_minor": 0
      },
      "text/plain": [
       "tokenizer_config.json:   0%|          | 0.00/48.0 [00:00<?, ?B/s]"
      ]
     },
     "metadata": {},
     "output_type": "display_data"
    },
    {
     "data": {
      "application/vnd.jupyter.widget-view+json": {
       "model_id": "f54fe48d36bb4539bf8e1d4a9596f44c",
       "version_major": 2,
       "version_minor": 0
      },
      "text/plain": [
       "vocab.txt:   0%|          | 0.00/232k [00:00<?, ?B/s]"
      ]
     },
     "metadata": {},
     "output_type": "display_data"
    },
    {
     "data": {
      "application/vnd.jupyter.widget-view+json": {
       "model_id": "e4dae816459b4e2f829689c48bb250a5",
       "version_major": 2,
       "version_minor": 0
      },
      "text/plain": [
       "tokenizer.json:   0%|          | 0.00/466k [00:00<?, ?B/s]"
      ]
     },
     "metadata": {},
     "output_type": "display_data"
    },
    {
     "data": {
      "application/vnd.jupyter.widget-view+json": {
       "model_id": "6c4dfae65bb44481a1ad2885acb60647",
       "version_major": 2,
       "version_minor": 0
      },
      "text/plain": [
       "config.json:   0%|          | 0.00/483 [00:00<?, ?B/s]"
      ]
     },
     "metadata": {},
     "output_type": "display_data"
    },
    {
     "data": {
      "application/vnd.jupyter.widget-view+json": {
       "model_id": "054c3e9ca738404c8d10084c85183ed8",
       "version_major": 2,
       "version_minor": 0
      },
      "text/plain": [
       "Map:   0%|          | 0/25000 [00:00<?, ? examples/s]"
      ]
     },
     "metadata": {},
     "output_type": "display_data"
    },
    {
     "data": {
      "application/vnd.jupyter.widget-view+json": {
       "model_id": "fd94b5e943b64befaeb07adf57817b79",
       "version_major": 2,
       "version_minor": 0
      },
      "text/plain": [
       "Map:   0%|          | 0/25000 [00:00<?, ? examples/s]"
      ]
     },
     "metadata": {},
     "output_type": "display_data"
    },
    {
     "data": {
      "application/vnd.jupyter.widget-view+json": {
       "model_id": "3af11f6f10b246c2bed17eaa62b5c532",
       "version_major": 2,
       "version_minor": 0
      },
      "text/plain": [
       "Map:   0%|          | 0/50000 [00:00<?, ? examples/s]"
      ]
     },
     "metadata": {},
     "output_type": "display_data"
    }
   ],
   "source": [
    "from transformers import DistilBertTokenizer\n",
    "\n",
    "# Charger le tokenizer de DistilBERT\n",
    "tokenizer = DistilBertTokenizer.from_pretrained('distilbert-base-uncased')\n",
    "\n",
    "# Tokenisation des textes\n",
    "def tokenize_data(examples):\n",
    "    return tokenizer(examples['text'], padding='max_length', truncation=True)\n",
    "\n",
    "# Appliquer la tokenisation au jeu de données\n",
    "tokenized_dataset = dataset.map(tokenize_data, batched=True)\n"
   ]
  },
  {
   "cell_type": "code",
   "execution_count": 4,
   "metadata": {
    "colab": {
     "base_uri": "https://localhost:8080/"
    },
    "id": "4yfWMy3LCNig",
    "outputId": "1bfa7d41-c881-4947-9cf1-3d4f9ed3dc77"
   },
   "outputs": [
    {
     "name": "stdout",
     "output_type": "stream",
     "text": [
      "Requirement already satisfied: transformers in /usr/local/lib/python3.12/dist-packages (4.56.1)\n",
      "Requirement already satisfied: filelock in /usr/local/lib/python3.12/dist-packages (from transformers) (3.19.1)\n",
      "Requirement already satisfied: huggingface-hub<1.0,>=0.34.0 in /usr/local/lib/python3.12/dist-packages (from transformers) (0.34.4)\n",
      "Requirement already satisfied: numpy>=1.17 in /usr/local/lib/python3.12/dist-packages (from transformers) (2.0.2)\n",
      "Requirement already satisfied: packaging>=20.0 in /usr/local/lib/python3.12/dist-packages (from transformers) (25.0)\n",
      "Requirement already satisfied: pyyaml>=5.1 in /usr/local/lib/python3.12/dist-packages (from transformers) (6.0.2)\n",
      "Requirement already satisfied: regex!=2019.12.17 in /usr/local/lib/python3.12/dist-packages (from transformers) (2024.11.6)\n",
      "Requirement already satisfied: requests in /usr/local/lib/python3.12/dist-packages (from transformers) (2.32.4)\n",
      "Requirement already satisfied: tokenizers<=0.23.0,>=0.22.0 in /usr/local/lib/python3.12/dist-packages (from transformers) (0.22.0)\n",
      "Requirement already satisfied: safetensors>=0.4.3 in /usr/local/lib/python3.12/dist-packages (from transformers) (0.6.2)\n",
      "Requirement already satisfied: tqdm>=4.27 in /usr/local/lib/python3.12/dist-packages (from transformers) (4.67.1)\n",
      "Requirement already satisfied: fsspec>=2023.5.0 in /usr/local/lib/python3.12/dist-packages (from huggingface-hub<1.0,>=0.34.0->transformers) (2025.3.0)\n",
      "Requirement already satisfied: typing-extensions>=3.7.4.3 in /usr/local/lib/python3.12/dist-packages (from huggingface-hub<1.0,>=0.34.0->transformers) (4.15.0)\n",
      "Requirement already satisfied: hf-xet<2.0.0,>=1.1.3 in /usr/local/lib/python3.12/dist-packages (from huggingface-hub<1.0,>=0.34.0->transformers) (1.1.9)\n",
      "Requirement already satisfied: charset_normalizer<4,>=2 in /usr/local/lib/python3.12/dist-packages (from requests->transformers) (3.4.3)\n",
      "Requirement already satisfied: idna<4,>=2.5 in /usr/local/lib/python3.12/dist-packages (from requests->transformers) (3.10)\n",
      "Requirement already satisfied: urllib3<3,>=1.21.1 in /usr/local/lib/python3.12/dist-packages (from requests->transformers) (2.5.0)\n",
      "Requirement already satisfied: certifi>=2017.4.17 in /usr/local/lib/python3.12/dist-packages (from requests->transformers) (2025.8.3)\n"
     ]
    }
   ],
   "source": [
    "pip install --upgrade transformers"
   ]
  },
  {
   "cell_type": "code",
   "execution_count": 5,
   "metadata": {
    "colab": {
     "base_uri": "https://localhost:8080/",
     "height": 104,
     "referenced_widgets": [
      "99f039a2ed7642eeba8f22575e5ea6e5",
      "4e661cb85dfd4d449dfc7e7e30759ede",
      "054b4eecb1544b99a7b64a8ad16e7d93",
      "0a69ff0c7d1d4f9a91179ff3bee9d705",
      "4aecf4ca9b1747b8becfa22eec688a32",
      "e24cd02e3c704873b6781449f02c56cd",
      "691e97cf1135441b83d032936ff37803",
      "3481b00b406b41898ea4069ec32ff046",
      "a653d7058ba54c828e9f85e70fb4e15d",
      "0c3e33000f5b4f5cb398f01fa742f45a",
      "4964017755664eb99c83d9611960cea1"
     ]
    },
    "id": "HDWLSfeyG7Lp",
    "outputId": "96f0370d-830f-464c-d90d-72d5aec3f862"
   },
   "outputs": [
    {
     "data": {
      "application/vnd.jupyter.widget-view+json": {
       "model_id": "99f039a2ed7642eeba8f22575e5ea6e5",
       "version_major": 2,
       "version_minor": 0
      },
      "text/plain": [
       "model.safetensors:   0%|          | 0.00/268M [00:00<?, ?B/s]"
      ]
     },
     "metadata": {},
     "output_type": "display_data"
    },
    {
     "name": "stderr",
     "output_type": "stream",
     "text": [
      "Some weights of DistilBertForSequenceClassification were not initialized from the model checkpoint at distilbert-base-uncased and are newly initialized: ['classifier.bias', 'classifier.weight', 'pre_classifier.bias', 'pre_classifier.weight']\n",
      "You should probably TRAIN this model on a down-stream task to be able to use it for predictions and inference.\n"
     ]
    }
   ],
   "source": [
    "from transformers import DistilBertForSequenceClassification, Trainer, TrainingArguments\n",
    "\n",
    "model = DistilBertForSequenceClassification.from_pretrained('distilbert-base-uncased', num_labels=2)\n",
    "\n",
    "training_args = TrainingArguments(\n",
    "    output_dir='./results',\n",
    "    eval_strategy=\"epoch\",          # Évaluer à chaque fin d'époque\n",
    "    learning_rate=2e-5,\n",
    "    per_device_train_batch_size=16,\n",
    "    per_device_eval_batch_size=16,\n",
    "    num_train_epochs=3,\n",
    "    weight_decay=0.01,\n",
    ")\n",
    "\n",
    "trainer = Trainer(\n",
    "    model=model,\n",
    "    args=training_args,\n",
    "    train_dataset=tokenized_dataset['train'],\n",
    "    eval_dataset=tokenized_dataset['test']\n",
    ")"
   ]
  },
  {
   "cell_type": "code",
   "execution_count": 6,
   "metadata": {
    "colab": {
     "base_uri": "https://localhost:8080/",
     "height": 575
    },
    "id": "iUI4p5MqJnuO",
    "outputId": "67b89ead-ff01-4f9c-cc49-49f60c90cd8a"
   },
   "outputs": [
    {
     "name": "stderr",
     "output_type": "stream",
     "text": [
      "/usr/local/lib/python3.12/dist-packages/notebook/notebookapp.py:191: SyntaxWarning: invalid escape sequence '\\/'\n",
      "  | |_| | '_ \\/ _` / _` |  _/ -_)\n"
     ]
    },
    {
     "data": {
      "application/javascript": [
       "\n",
       "        window._wandbApiKey = new Promise((resolve, reject) => {\n",
       "            function loadScript(url) {\n",
       "            return new Promise(function(resolve, reject) {\n",
       "                let newScript = document.createElement(\"script\");\n",
       "                newScript.onerror = reject;\n",
       "                newScript.onload = resolve;\n",
       "                document.body.appendChild(newScript);\n",
       "                newScript.src = url;\n",
       "            });\n",
       "            }\n",
       "            loadScript(\"https://cdn.jsdelivr.net/npm/postmate/build/postmate.min.js\").then(() => {\n",
       "            const iframe = document.createElement('iframe')\n",
       "            iframe.style.cssText = \"width:0;height:0;border:none\"\n",
       "            document.body.appendChild(iframe)\n",
       "            const handshake = new Postmate({\n",
       "                container: iframe,\n",
       "                url: 'https://wandb.ai/authorize'\n",
       "            });\n",
       "            const timeout = setTimeout(() => reject(\"Couldn't auto authenticate\"), 5000)\n",
       "            handshake.then(function(child) {\n",
       "                child.on('authorize', data => {\n",
       "                    clearTimeout(timeout)\n",
       "                    resolve(data)\n",
       "                });\n",
       "            });\n",
       "            })\n",
       "        });\n",
       "    "
      ],
      "text/plain": [
       "<IPython.core.display.Javascript object>"
      ]
     },
     "metadata": {},
     "output_type": "display_data"
    },
    {
     "name": "stderr",
     "output_type": "stream",
     "text": [
      "\u001b[34m\u001b[1mwandb\u001b[0m: Logging into wandb.ai. (Learn how to deploy a W&B server locally: https://wandb.me/wandb-server)\n",
      "\u001b[34m\u001b[1mwandb\u001b[0m: You can find your API key in your browser here: https://wandb.ai/authorize?ref=models\n",
      "wandb: Paste an API key from your profile and hit enter:"
     ]
    },
    {
     "name": "stdout",
     "output_type": "stream",
     "text": [
      " ··········\n"
     ]
    },
    {
     "name": "stderr",
     "output_type": "stream",
     "text": [
      "\u001b[34m\u001b[1mwandb\u001b[0m: \u001b[33mWARNING\u001b[0m If you're specifying your api key in code, ensure this code is not shared publicly.\n",
      "\u001b[34m\u001b[1mwandb\u001b[0m: \u001b[33mWARNING\u001b[0m Consider setting the WANDB_API_KEY environment variable, or running `wandb login` from the command line.\n",
      "\u001b[34m\u001b[1mwandb\u001b[0m: No netrc file found, creating one.\n",
      "\u001b[34m\u001b[1mwandb\u001b[0m: Appending key for api.wandb.ai to your netrc file: /root/.netrc\n",
      "\u001b[34m\u001b[1mwandb\u001b[0m: Currently logged in as: \u001b[33mexaucebonheu\u001b[0m (\u001b[33mexaucebonheu-ville-de-lille\u001b[0m) to \u001b[32mhttps://api.wandb.ai\u001b[0m. Use \u001b[1m`wandb login --relogin`\u001b[0m to force relogin\n"
     ]
    },
    {
     "data": {
      "text/html": [
       "creating run (0.0s)"
      ],
      "text/plain": [
       "<IPython.core.display.HTML object>"
      ]
     },
     "metadata": {},
     "output_type": "display_data"
    },
    {
     "data": {
      "text/html": [
       "Tracking run with wandb version 0.21.3"
      ],
      "text/plain": [
       "<IPython.core.display.HTML object>"
      ]
     },
     "metadata": {},
     "output_type": "display_data"
    },
    {
     "data": {
      "text/html": [
       "Run data is saved locally in <code>/content/wandb/run-20250910_162122-1ivrkxde</code>"
      ],
      "text/plain": [
       "<IPython.core.display.HTML object>"
      ]
     },
     "metadata": {},
     "output_type": "display_data"
    },
    {
     "data": {
      "text/html": [
       "Syncing run <strong><a href='https://wandb.ai/exaucebonheu-ville-de-lille/huggingface/runs/1ivrkxde' target=\"_blank\">denim-field-2</a></strong> to <a href='https://wandb.ai/exaucebonheu-ville-de-lille/huggingface' target=\"_blank\">Weights & Biases</a> (<a href='https://wandb.me/developer-guide' target=\"_blank\">docs</a>)<br>"
      ],
      "text/plain": [
       "<IPython.core.display.HTML object>"
      ]
     },
     "metadata": {},
     "output_type": "display_data"
    },
    {
     "data": {
      "text/html": [
       " View project at <a href='https://wandb.ai/exaucebonheu-ville-de-lille/huggingface' target=\"_blank\">https://wandb.ai/exaucebonheu-ville-de-lille/huggingface</a>"
      ],
      "text/plain": [
       "<IPython.core.display.HTML object>"
      ]
     },
     "metadata": {},
     "output_type": "display_data"
    },
    {
     "data": {
      "text/html": [
       " View run at <a href='https://wandb.ai/exaucebonheu-ville-de-lille/huggingface/runs/1ivrkxde' target=\"_blank\">https://wandb.ai/exaucebonheu-ville-de-lille/huggingface/runs/1ivrkxde</a>"
      ],
      "text/plain": [
       "<IPython.core.display.HTML object>"
      ]
     },
     "metadata": {},
     "output_type": "display_data"
    },
    {
     "data": {
      "text/html": [
       "\n",
       "    <div>\n",
       "      \n",
       "      <progress value='4689' max='4689' style='width:300px; height:20px; vertical-align: middle;'></progress>\n",
       "      [4689/4689 1:16:09, Epoch 3/3]\n",
       "    </div>\n",
       "    <table border=\"1\" class=\"dataframe\">\n",
       "  <thead>\n",
       " <tr style=\"text-align: left;\">\n",
       "      <th>Epoch</th>\n",
       "      <th>Training Loss</th>\n",
       "      <th>Validation Loss</th>\n",
       "    </tr>\n",
       "  </thead>\n",
       "  <tbody>\n",
       "    <tr>\n",
       "      <td>1</td>\n",
       "      <td>0.226700</td>\n",
       "      <td>0.221926</td>\n",
       "    </tr>\n",
       "    <tr>\n",
       "      <td>2</td>\n",
       "      <td>0.152700</td>\n",
       "      <td>0.228502</td>\n",
       "    </tr>\n",
       "    <tr>\n",
       "      <td>3</td>\n",
       "      <td>0.087600</td>\n",
       "      <td>0.281899</td>\n",
       "    </tr>\n",
       "  </tbody>\n",
       "</table><p>"
      ],
      "text/plain": [
       "<IPython.core.display.HTML object>"
      ]
     },
     "metadata": {},
     "output_type": "display_data"
    },
    {
     "data": {
      "text/html": [
       "\n",
       "    <div>\n",
       "      \n",
       "      <progress value='1563' max='1563' style='width:300px; height:20px; vertical-align: middle;'></progress>\n",
       "      [1563/1563 05:55]\n",
       "    </div>\n",
       "    "
      ],
      "text/plain": [
       "<IPython.core.display.HTML object>"
      ]
     },
     "metadata": {},
     "output_type": "display_data"
    },
    {
     "data": {
      "text/plain": [
       "{'eval_loss': 0.281898558139801,\n",
       " 'eval_runtime': 355.2167,\n",
       " 'eval_samples_per_second': 70.38,\n",
       " 'eval_steps_per_second': 4.4,\n",
       " 'epoch': 3.0}"
      ]
     },
     "execution_count": 6,
     "metadata": {},
     "output_type": "execute_result"
    }
   ],
   "source": [
    "# Entraîner le modèle\n",
    "trainer.train()\n",
    "\n",
    "# Évaluer le modèle\n",
    "trainer.evaluate()\n"
   ]
  },
  {
   "cell_type": "code",
   "execution_count": 7,
   "metadata": {
    "colab": {
     "base_uri": "https://localhost:8080/"
    },
    "id": "FLRTyZTJkFFT",
    "outputId": "9852526c-7596-4bd6-deff-8e5cc664812d"
   },
   "outputs": [
    {
     "data": {
      "text/plain": [
       "('./fine_tuned_distilbert/tokenizer_config.json',\n",
       " './fine_tuned_distilbert/special_tokens_map.json',\n",
       " './fine_tuned_distilbert/vocab.txt',\n",
       " './fine_tuned_distilbert/added_tokens.json')"
      ]
     },
     "execution_count": 7,
     "metadata": {},
     "output_type": "execute_result"
    }
   ],
   "source": [
    "# Sauvegarder le modèle finement ajusté\n",
    "model.save_pretrained('./fine_tuned_distilbert')\n",
    "tokenizer.save_pretrained('./fine_tuned_distilbert')\n"
   ]
  },
  {
   "cell_type": "code",
   "execution_count": 8,
   "metadata": {
    "id": "lOXPul6qkMYA"
   },
   "outputs": [],
   "source": [
    "from transformers import DistilBertForSequenceClassification, DistilBertTokenizer\n",
    "\n",
    "# Recharger le modèle et le tokenizer depuis le dossier où ils ont été sauvegardés\n",
    "model = DistilBertForSequenceClassification.from_pretrained('./fine_tuned_distilbert')\n",
    "tokenizer = DistilBertTokenizer.from_pretrained('./fine_tuned_distilbert')\n"
   ]
  },
  {
   "cell_type": "code",
   "execution_count": 9,
   "metadata": {
    "id": "ZVKkaKS0nta_"
   },
   "outputs": [],
   "source": [
    "# Exemple de texte à tester\n",
    "text = \"This movie was absolutely bad! I dind'nt love it.\"\n",
    "\n",
    "# Tokenisation de l'exemple\n",
    "inputs = tokenizer(text, return_tensors=\"pt\", padding=True, truncation=True, max_length=512)\n"
   ]
  },
  {
   "cell_type": "code",
   "execution_count": 12,
   "metadata": {
    "colab": {
     "base_uri": "https://localhost:8080/"
    },
    "id": "0klIDzyeoUj_",
    "outputId": "d3d72e17-e894-4410-e7bb-722e676d913f"
   },
   "outputs": [
    {
     "name": "stdout",
     "output_type": "stream",
     "text": [
      "Texte : 'This morning started in a wonderful way because I woke up feeling refreshed and full of energy.' -> Classe prédite : Positive\n",
      "Texte : 'The breakfast was delicious, and the coffee tasted perfect.' -> Classe prédite : Positive\n",
      "Texte : 'On my way to work, however, the heavy traffic made me frustrated and impatient.' -> Classe prédite : Négative\n",
      "Texte : 'I felt disappointed when I realized I had forgotten an important document at home.' -> Classe prédite : Négative\n",
      "Texte : 'Luckily, one of my colleagues was kind enough to help me and share the files I needed.' -> Classe prédite : Positive\n",
      "Texte : 'Later, I received positive feedback on the project I had been working on, which made me proud and happy.' -> Classe prédite : Positive\n",
      "Texte : 'In the afternoon, the internet connection kept failing, and it slowed down my tasks, which was very annoying.' -> Classe prédite : Négative\n",
      "Texte : 'Despite that, the meeting with my team was productive and motivating.' -> Classe prédite : Positive\n",
      "Texte : 'By the end of the day, I was tired, but I felt satisfied with everything I had accomplished.' -> Classe prédite : Positive\n"
     ]
    }
   ],
   "source": [
    "import torch  # ← Ajoutez cette importation\n",
    "\n",
    "texts = [\n",
    "    \"This morning started in a wonderful way because I woke up feeling refreshed and full of energy.\",\n",
    "    \"The breakfast was delicious, and the coffee tasted perfect.\",\n",
    "    \"On my way to work, however, the heavy traffic made me frustrated and impatient.\",\n",
    "    \"I felt disappointed when I realized I had forgotten an important document at home.\",\n",
    "    \"Luckily, one of my colleagues was kind enough to help me and share the files I needed.\",\n",
    "    \"Later, I received positive feedback on the project I had been working on, which made me proud and happy.\",\n",
    "    \"In the afternoon, the internet connection kept failing, and it slowed down my tasks, which was very annoying.\",\n",
    "    \"Despite that, the meeting with my team was productive and motivating.\",\n",
    "    \"By the end of the day, I was tired, but I felt satisfied with everything I had accomplished.\"\n",
    "]\n",
    "\n",
    "for text in texts:\n",
    "    inputs = tokenizer(text, return_tensors=\"pt\", padding=True, truncation=True, max_length=512)\n",
    "    with torch.no_grad():  # ← Maintenant torch est reconnu\n",
    "        outputs = model(**inputs)\n",
    "    logits = outputs.logits\n",
    "    predicted_class = logits.argmax().item()\n",
    "\n",
    "    if predicted_class == 1:\n",
    "        print(f\"Texte : '{text}' -> Classe prédite : Positive\")\n",
    "    else:\n",
    "        print(f\"Texte : '{text}' -> Classe prédite : Négative\")"
   ]
  }
 ],
 "metadata": {
  "accelerator": "GPU",
  "colab": {
   "gpuType": "T4",
   "provenance": []
  },
  "kernelspec": {
   "display_name": "Python 3",
   "name": "python3"
  },
  "language_info": {
   "name": "python"
  }
 },
 "nbformat": 4,
 "nbformat_minor": 0
}
